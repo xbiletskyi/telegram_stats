{
 "cells": [
  {
   "cell_type": "code",
   "outputs": [],
   "source": [
    "import pandas as pd\n",
    "import matplotlib.pyplot as plt"
   ],
   "metadata": {},
   "id": "0caee01d-c5af-473e-adc3-2e1a45f5e221",
   "execution_count": null
  },
  {
   "cell_type": "code",
   "execution_count": null,
   "id": "df894116-dba2-403a-a6ea-c4e03fcc9fcb",
   "metadata": {},
   "outputs": [],
   "source": [
    "import json\n",
    "\n",
    "with open('result.json', 'r') as file:\n",
    "    data = json.load(file)\n",
    "\n",
    "messages = []\n",
    "for message in data['messages']:\n",
    "    messages.append({\n",
    "        'from': message.get(\"from\"),\n",
    "        'text': message.get(\"text\"),\n",
    "        'date_unixtime': message.get(\"date_unixtime\")\n",
    "    })\n",
    "\n",
    "df = pd.DataFrame(messages)\n",
    "df"
   ]
  },
  {
   "cell_type": "code",
   "outputs": [],
   "source": [
    "df['from'].dropna(inplace=True)\n",
    "df['date'] = pd.to_datetime(df['date_unixtime'], unit='s')\n",
    "df.drop(['date_unixtime'], axis=1, inplace=True)\n",
    "df"
   ],
   "metadata": {
    "collapsed": false
   },
   "id": "d16a8ecb5b16c594",
   "execution_count": null
  },
  {
   "cell_type": "code",
   "outputs": [],
   "source": [
    "message_counts = df.groupby('from').size()\n",
    "plt.bar(message_counts.index, message_counts.values)\n",
    "plt.xlabel('Sender')\n",
    "plt.ylabel('Number of Messages')\n",
    "plt.title('Message Density by Sender')\n",
    "plt.show()"
   ],
   "metadata": {
    "collapsed": false
   },
   "id": "8917cf8a2f5082ad",
   "execution_count": null
  },
  {
   "cell_type": "code",
   "outputs": [],
   "source": [
    "df['day'] = df['date'].dt.date\n",
    "\n",
    "message_counts_by_day = df.groupby(['from', 'day']).size().reset_index(name='message_count')\n",
    "\n",
    "plt.figure(figsize=(64, 6)) # ADJUST graph size (width, height)\n",
    "for user, data in message_counts_by_day.groupby('from'):\n",
    "    plt.plot(data['day'], data['message_count'], label=user)\n",
    "\n",
    "plt.xlabel('Date')\n",
    "plt.ylabel('Number of Messages')\n",
    "plt.title('Number of Messages by Day for Each User')\n",
    "plt.legend()\n",
    "plt.xticks(rotation=45)\n",
    "plt.tight_layout()\n",
    "plt.show()"
   ],
   "metadata": {
    "collapsed": false
   },
   "id": "4ec3bf24499f90ba",
   "execution_count": null
  },
  {
   "cell_type": "code",
   "outputs": [],
   "source": [
    "df['message_density'] = df['text'].apply(len)\n",
    "message_density_by_day = df.groupby(['from', 'day'])['message_density'].sum().reset_index()\n",
    "\n",
    "plt.figure(figsize=(64, 6))  # ADJUST graph size (width, height)\n",
    "for user, data in message_density_by_day.groupby('from'):\n",
    "    plt.plot(data['day'], data['message_density'], label=user)\n",
    "\n",
    "plt.xlabel('Date')\n",
    "plt.ylabel('Message Density (Total Text Length)')\n",
    "plt.title('Message Density by Day for Each User')\n",
    "plt.legend()\n",
    "plt.xticks(rotation=45)\n",
    "plt.tight_layout()\n",
    "plt.show()"
   ],
   "metadata": {
    "collapsed": false
   },
   "id": "e9a8de495b37925c",
   "execution_count": null
  },
  {
   "cell_type": "code",
   "outputs": [],
   "source": [
    "from collections import Counter\n",
    "import re\n",
    "\n",
    "def find_top_words_for_user(user, min_word_length=3, num_words=30): # ADJUST minimum length of the word and number of displayed words\n",
    "    user_df = df[df['from'] == user]\n",
    "    all_words = ' '.join(user_df['text'].astype(str))\n",
    "    all_words = re.sub(r'[.,]', '', all_words).lower().split()\n",
    "    all_words = [word for word in all_words if len(word) >= min_word_length]\n",
    "    word_counts = Counter(all_words)\n",
    "    top_words = word_counts.most_common(num_words)\n",
    "    return top_words\n",
    "\n",
    "top_words_by_user = {}\n",
    "header = \"Most used from: \"\n",
    "unique_users = df['from'].unique()\n",
    "for user in unique_users:\n",
    "    top_words_by_user[user] = find_top_words_for_user(user)\n",
    "    header += f\"{user}\".ljust(25)\n",
    "max_num_words = max(len(words) for words in top_words_by_user.values())\n",
    "print(header)\n",
    "for i in range(0, max_num_words):\n",
    "    current_words = \"\".ljust(17)\n",
    "    for user in unique_users:\n",
    "        if i < len(top_words_by_user[user]):\n",
    "            word, count = top_words_by_user[user][i]\n",
    "            current_words += f\"{word}: {count}\".ljust(25)\n",
    "        else:\n",
    "            current_words += \"\".ljust(25)\n",
    "    print(current_words)"
   ],
   "metadata": {
    "collapsed": false
   },
   "id": "58dfdabae42f9702",
   "execution_count": null
  },
  {
   "cell_type": "code",
   "outputs": [],
   "source": [],
   "metadata": {
    "collapsed": false
   },
   "id": "9665f702d3f10538"
  }
 ],
 "metadata": {
  "kernelspec": {
   "display_name": "Python 3 (ipykernel)",
   "language": "python",
   "name": "python3"
  },
  "language_info": {
   "codemirror_mode": {
    "name": "ipython",
    "version": 3
   },
   "file_extension": ".py",
   "mimetype": "text/x-python",
   "name": "python",
   "nbconvert_exporter": "python",
   "pygments_lexer": "ipython3",
   "version": "3.10.12"
  }
 },
 "nbformat": 4,
 "nbformat_minor": 5
}
